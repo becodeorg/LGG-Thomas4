{
 "cells": [
  {
   "cell_type": "markdown",
   "metadata": {},
   "source": [
    "# Drill - Decorators\n",
    "\n",
    "### Exercise 1\n",
    "Create a decorator that limits the execution of a function:\n",
    "\n",
    "When the function is executed too many times, an exception is thrown. The decorator must take one parameter, which is the number of times it is executed."
   ]
  },
  {
   "cell_type": "code",
   "execution_count": null,
   "metadata": {},
   "outputs": [],
   "source": [
    "def execution_decorator(function, n):\n",
    "    def wrapper(*args, **kwargs):\n",
    "        i = 0\n",
    "        result = function(*args, **kwargs)\n",
    "\n",
    "    return wrapper"
   ]
  },
  {
   "cell_type": "markdown",
   "metadata": {},
   "source": [
    "### Exercise 2\n",
    "Create a decorator that controls what a function returns. The decorator must throw an exception if the function returns a string or an int."
   ]
  },
  {
   "cell_type": "code",
   "execution_count": null,
   "metadata": {},
   "outputs": [],
   "source": [
    "def type_controler(function):\n",
    "    def wrapper(*args, **kwargs):\n",
    "        result = function(*args, **kwargs)\n",
    "        if isinstance(result, str) or isinstance(result, int):\n",
    "            return f\"Error: The result of {function.__name__()} can not be a string or an integer.\"\n",
    "        else:\n",
    "            return result\n",
    "\n",
    "    return wrapper"
   ]
  },
  {
   "cell_type": "markdown",
   "metadata": {},
   "source": [
    "### Exercise 3\n",
    "A decorator that displays the time it took for the function to run (basic)."
   ]
  },
  {
   "cell_type": "code",
   "execution_count": null,
   "metadata": {},
   "outputs": [],
   "source": [
    "import time\n",
    "\n",
    "def timer(function):\n",
    "    def wrapper(*args, **kwargs):\n",
    "        start = time.perf_counter()\n",
    "        result = function(*args, **kwargs)\n",
    "        end = time.perf_counter()\n",
    "        execution_time = round((end - start), 2)\n",
    "        print(f\"{function.__name__} took {execution_time} seconds.\")\n",
    "        return result\n",
    "    \n",
    "    return wrapper\n",
    "\n",
    "\n",
    "@timer\n",
    "def example():\n",
    "    time.sleep(2)\n",
    "\n",
    "\n",
    "example()"
   ]
  }
 ],
 "metadata": {
  "kernelspec": {
   "display_name": "Python 3",
   "language": "python",
   "name": "python3"
  },
  "language_info": {
   "codemirror_mode": {
    "name": "ipython",
    "version": 3
   },
   "file_extension": ".py",
   "mimetype": "text/x-python",
   "name": "python",
   "nbconvert_exporter": "python",
   "pygments_lexer": "ipython3",
   "version": "3.12.1"
  }
 },
 "nbformat": 4,
 "nbformat_minor": 2
}
