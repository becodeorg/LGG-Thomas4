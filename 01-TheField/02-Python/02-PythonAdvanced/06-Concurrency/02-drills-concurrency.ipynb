{
 "cells": [
  {
   "cell_type": "markdown",
   "metadata": {},
   "source": [
    "# Drill - Threading\n",
    "\n"
   ]
  },
  {
   "cell_type": "markdown",
   "metadata": {},
   "source": [
    "### Exercise 1\n",
    "In the `data/` folder, you have 10 files that contain Shakespears sonnets. You have to gather all these files into one file `data_all.txt` using threads. Be careful, the sonnets must appear in order."
   ]
  },
  {
   "cell_type": "code",
   "execution_count": 5,
   "metadata": {},
   "outputs": [
    {
     "ename": "NameError",
     "evalue": "name 'threading' is not defined",
     "output_type": "error",
     "traceback": [
      "\u001b[0;31m---------------------------------------------------------------------------\u001b[0m",
      "\u001b[0;31mNameError\u001b[0m                                 Traceback (most recent call last)",
      "Cell \u001b[0;32mIn[5], line 5\u001b[0m\n\u001b[1;32m      2\u001b[0m \u001b[38;5;28;01mfrom\u001b[39;00m \u001b[38;5;21;01mtime\u001b[39;00m \u001b[38;5;28;01mimport\u001b[39;00m perf_counter\n\u001b[1;32m      3\u001b[0m \u001b[38;5;28;01mfrom\u001b[39;00m \u001b[38;5;21;01mthreading\u001b[39;00m \u001b[38;5;28;01mimport\u001b[39;00m Thread\n\u001b[0;32m----> 5\u001b[0m lock \u001b[38;5;241m=\u001b[39m \u001b[43mthreading\u001b[49m\u001b[38;5;241m.\u001b[39mLock()\n\u001b[1;32m      7\u001b[0m start_time \u001b[38;5;241m=\u001b[39m perf_counter()\n\u001b[1;32m      9\u001b[0m folder \u001b[38;5;241m=\u001b[39m []\n",
      "\u001b[0;31mNameError\u001b[0m: name 'threading' is not defined"
     ]
    }
   ],
   "source": [
    "import os\n",
    "from time import perf_counter\n",
    "from threading import Thread\n",
    "\n",
    "start_time = perf_counter()\n",
    "\n",
    "folder = []\n",
    "\n",
    "folder_path = os.path.abspath(\"./data\")\n",
    "for path, dirs, files in os.walk(folder_path):\n",
    "    for filename in files:\n",
    "        folder.append(os.path.join(path, filename))\n",
    "    \n",
    "def task(filename):\n",
    "    with open(\"./data/final.txt\", \"w\", encoding=\"latin-1\") as new_file:\n",
    "        with open(filename, \"r\", encoding=\"latin-1\") as text_file:\n",
    "            content = text_file.read()\n",
    "            new_file.write(content)\n",
    "            new_file.write(\"\\n\")\n",
    "            \n",
    "threads = []\n",
    "for filename in folder:\n",
    "    thread = Thread(target=task, args=(filename,)) # New thread will run \"task\" with argument \"i\"\n",
    "    threads.append(thread) # To keep track of all the treads\n",
    "\n",
    "for thread in threads:\n",
    "    thread.start()\n",
    "\n",
    "for thread in threads:  # The second loop is necessary. start() everything then join() everything.\n",
    "    thread.join() # Make sure all the threads are done before continuing\n",
    "\n",
    "print(f\"\\nTime spent inside the loop: {perf_counter() - start_time} seconds.\")\n",
    "        \n",
    "with open(\"./data/final.txt\", \"r\", encoding=\"latin-1\") as test:\n",
    "    print(test.read())\n",
    "    \n",
    "\n",
    "\n",
    "# def task(id):\n",
    "#     print(f\"Task {id}: starting. \")\n",
    "#     print(f\"Task {id}: finishing. \")\n",
    "\n",
    "# threads = list()\n",
    "# for i in range(5):\n",
    "#     thread = Thread(target=task, args=(i,)) # New thread will run \"task\" with argument \"i\"\n",
    "#     threads.append(thread) # To keep track of all the treads\n",
    "\n",
    "# for thread in threads:\n",
    "#     thread.start()\n",
    "\n",
    "# for thread in threads:  # The second loop is necessary. start() everything then join() everything.\n",
    "#     thread.join() # Make sure all the threads are done before continuing\n",
    "\n",
    "# print(f\"\\nTime spent inside the loop: {perf_counter() - start_time} seconds.\")    \n",
    "\n",
    "# txt_files = []\n",
    "# new_path = os.path.abspath(\"./data\")\n",
    "# print(new_path)\n",
    "\n",
    "# for path, dirs, files in os.walk(new_path):\n",
    "#     for filename in files:\n",
    "#         if \".txt\" in filename:\n",
    "#             txt_files.append(os.path.join(path, filename))\n",
    "\n"
   ]
  },
  {
   "cell_type": "markdown",
   "metadata": {},
   "source": [
    "### Exercise 2\n",
    "Scrap all the web pages in the `urls` list and display the links. 1 thread per link. "
   ]
  },
  {
   "cell_type": "code",
   "execution_count": 1,
   "metadata": {},
   "outputs": [],
   "source": [
    "urls = [\n",
    "    \"http://www.python.org\",\n",
    "    \"http://www.python.org/about/\",\n",
    "    \"http://www.onlamp.com/pub/a/python/2003/04/17/metaclasses.html\",\n",
    "    \"http://www.python.org/doc/\",\n",
    "    \"http://www.python.org/download/\",\n",
    "    \"http://www.python.org/getit/\",\n",
    "    \"http://www.python.org/community/\",\n",
    "    \"https://wiki.python.org/moin/\",\n",
    "]"
   ]
  },
  {
   "cell_type": "code",
   "execution_count": null,
   "metadata": {},
   "outputs": [],
   "source": []
  }
 ],
 "metadata": {
  "file_extension": ".py",
  "kernelspec": {
   "display_name": "Python 3",
   "language": "python",
   "name": "python3"
  },
  "language_info": {
   "codemirror_mode": {
    "name": "ipython",
    "version": 3
   },
   "file_extension": ".py",
   "mimetype": "text/x-python",
   "name": "python",
   "nbconvert_exporter": "python",
   "pygments_lexer": "ipython3",
   "version": "3.12.3"
  },
  "mimetype": "text/x-python",
  "name": "python",
  "npconvert_exporter": "python",
  "pygments_lexer": "ipython3",
  "version": 3
 },
 "nbformat": 4,
 "nbformat_minor": 2
}
