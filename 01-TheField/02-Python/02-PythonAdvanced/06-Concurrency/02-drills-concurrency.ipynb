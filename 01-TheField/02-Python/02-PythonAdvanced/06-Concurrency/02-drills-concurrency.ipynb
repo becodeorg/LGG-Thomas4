{
 "cells": [
  {
   "cell_type": "markdown",
   "metadata": {},
   "source": [
    "# Drill - Threading\n",
    "\n"
   ]
  },
  {
   "cell_type": "markdown",
   "metadata": {},
   "source": [
    "### Exercise 1\n",
    "In the `data/` folder, you have 10 files that contain Shakespears sonnets. You have to gather all these files into one file `data_all.txt` using threads. Be careful, the sonnets must appear in order."
   ]
  },
  {
   "cell_type": "code",
   "execution_count": null,
   "metadata": {},
   "outputs": [],
   "source": [
    "from threading import Thread\n",
    "from threading import RLock\n",
    "\n",
    "from time import perf_counter\n",
    "\n",
    "def appending_file(final_filename, part_filename):\n",
    "    with open(part_filename, \"r\") as input_file:\n",
    "        with open(final_filename, \"a\") as output_file:\n",
    "            output_file.write(input_file.read() + \"\\n\")\n",
    "    print(f\"Appending file {part_filename} to file {final_filename}.\")\n",
    "\n",
    "\n",
    "rlock = RLock()\n",
    "\n",
    "def appending_file_locked(final_filename, part_filename):\n",
    "    with rlock:\n",
    "        appending_file(final_filename, part_filename)\n",
    "\n",
    "my_file_name = \"./data/data_all.txt\"\n",
    "\n",
    "start_time = perf_counter()\n",
    "\n",
    "threads = list()\n",
    "for i in range(1, 11):\n",
    "    thread = Thread(target=appending_file_locked, args=(my_file_name, \"./data/data_part_\" + str(i) + \".txt\"))\n",
    "    threads.append(thread)\n",
    "\n",
    "for thread in threads:\n",
    "    thread.start()\n",
    "\n",
    "for thread in threads:\n",
    "    thread.join()\n",
    "\n",
    "print(f\"\\nTime spent inside the loop: {perf_counter() - start_time} seconds.\")"
   ]
  },
  {
   "cell_type": "markdown",
   "metadata": {},
   "source": [
    "### Exercise 2\n",
    "Scrap all the web pages in the `urls` list and display the links. 1 thread per link. "
   ]
  },
  {
   "cell_type": "code",
   "execution_count": null,
   "metadata": {},
   "outputs": [],
   "source": [
    "urls = [\n",
    "    \"http://www.python.org\",\n",
    "    \"http://www.python.org/about/\",\n",
    "    \"http://www.onlamp.com/pub/a/python/2003/04/17/metaclasses.html\",\n",
    "    \"http://www.python.org/doc/\",\n",
    "    \"http://www.python.org/download/\",\n",
    "    \"http://www.python.org/getit/\",\n",
    "    \"http://www.python.org/community/\",\n",
    "    \"https://wiki.python.org/moin/\",\n",
    "]"
   ]
  },
  {
   "cell_type": "code",
   "execution_count": null,
   "metadata": {},
   "outputs": [],
   "source": [
    "from threading import Thread\n",
    "from threading import RLock\n",
    "\n",
    "from time import perf_counter\n",
    "\n",
    "import requests\n",
    "from bs4 import BeautifulSoup\n",
    "\n",
    "def getting_links(url):\n",
    "    r = requests.get(url)\n",
    "    soup = BeautifulSoup(r.content, \"html\")\n",
    "    print(f\"The list of all links in the url {url} is:\")\n",
    "    print([elem.get(\"href\") for elem in soup.find_all(\"a\")])\n",
    "\n",
    "\n",
    "rlock = RLock()\n",
    "\n",
    "\n",
    "def getting_links_locked(url):\n",
    "    with rlock:\n",
    "        getting_links(url)\n",
    "\n",
    "\n",
    "start_time = perf_counter()\n",
    "\n",
    "threads = list()\n",
    "for url in urls:\n",
    "    thread = Thread(target=getting_links_locked, args=(url,))\n",
    "    threads.append(thread)\n",
    "\n",
    "for thread in threads:\n",
    "    thread.start()\n",
    "\n",
    "for thread in threads:\n",
    "    thread.join()\n",
    "\n",
    "print(f\"\\nTime spent inside the loop: {perf_counter() - start_time} seconds.\")"
   ]
  }
 ],
 "metadata": {
  "file_extension": ".py",
  "kernelspec": {
   "display_name": "Python 3",
   "language": "python",
   "name": "python3"
  },
  "language_info": {
   "codemirror_mode": {
    "name": "ipython",
    "version": 3
   },
   "file_extension": ".py",
   "mimetype": "text/x-python",
   "name": "python",
   "nbconvert_exporter": "python",
   "pygments_lexer": "ipython3",
   "version": "3.12.1"
  },
  "mimetype": "text/x-python",
  "name": "python",
  "npconvert_exporter": "python",
  "pygments_lexer": "ipython3",
  "version": 3
 },
 "nbformat": 4,
 "nbformat_minor": 2
}
