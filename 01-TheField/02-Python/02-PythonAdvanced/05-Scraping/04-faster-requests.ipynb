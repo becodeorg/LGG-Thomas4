{
 "cells": [
  {
   "cell_type": "markdown",
   "metadata": {},
   "source": [
    "# Make your requests faster\n",
    "\n",
    "When you start scraping web-pages or requesting APIs, you will be facing a problem when doing a lot of requests: this is really slow!\n",
    "\n",
    "It's because python is slow! You could say, well it should not be. Let's see how we can speed things up!\n",
    "\n",
    "## Measure performances\n",
    "\n",
    "In this notebook we will need to track how much time some code is taking to execute.\n",
    "To make things easier, we will create a simple decorator that will print the number of micro-seconds a function takes to execute.\n",
    "\n",
    "A good opportonity to practice decorators in a practical example!\n",
    "\n",
    "*Note that you need python3.3 or higher.*"
   ]
  },
  {
   "cell_type": "code",
   "execution_count": 3,
   "metadata": {},
   "outputs": [
    {
     "name": "stdout",
     "output_type": "stream",
     "text": [
      "example took 2.0 sec\n"
     ]
    }
   ],
   "source": [
    "import time\n",
    "\n",
    "def print_timing(func):\n",
    "    '''Create a timing decorator function use @print_timing just above the function you want to time.'''\n",
    "\n",
    "    def wrapper(*arg):\n",
    "        start = time.perf_counter()\n",
    "        \n",
    "        # Run the function decorated\n",
    "        result = func(*arg)\n",
    "\n",
    "        end = time.perf_counter()\n",
    "        execution_time = round((end - start), 2)\n",
    "        print(f'{func.__name__} took {execution_time} sec')\n",
    "        return result\n",
    "\n",
    "    return wrapper\n",
    "\n",
    "\n",
    "@print_timing\n",
    "def example():\n",
    "    time.sleep(2)\n",
    "\n",
    "\n",
    "example()"
   ]
  },
  {
   "cell_type": "markdown",
   "metadata": {},
   "source": [
    "## The API\n",
    "\n",
    "For this example, we will use the [quotable.io](https://api.quotable.io) API. It's an online API you can use to generate random quote.\n",
    "\n",
    "But feel free to replace `api_url` value with any API you'd like."
   ]
  },
  {
   "cell_type": "code",
   "execution_count": 4,
   "metadata": {},
   "outputs": [],
   "source": [
    "api_url = \"https://api.quotable.io/random\""
   ]
  },
  {
   "cell_type": "markdown",
   "metadata": {},
   "source": [
    "## The \"classic\" way\n",
    "\n",
    "If you start playing with requests, your should probably have something like this:"
   ]
  },
  {
   "cell_type": "code",
   "execution_count": 5,
   "metadata": {},
   "outputs": [
    {
     "name": "stdout",
     "output_type": "stream",
     "text": [
      "The only way to make sense out of change is to plunge into it, move with it, and join the dance.\n",
      "Gravitation cannot be held responsible for people falling in love. How on earth can you explain in terms of chemistry and physics so important a biological phenomenon as first love? Put your hand on a stove for a minute and it seems like an hour. Sit with that special girl for an hour and it seems like a minute. That's relativity.\n",
      "Practice yourself, for heaven's sake in little things, and then proceed to greater.\n",
      "No garden is without its weeds.\n",
      "The pine stays green in winter... wisdom in hardship.\n",
      "Fame usually comes to those who are thinking about something else.\n",
      "The greatest mistake you can make in life is to be continually fearing you will make one.\n",
      "Let go of your attachment to being right, and suddenly your mind is more open. You're able to benefit from the unique viewpoints of others, without being crippled by your own judgement.\n",
      "Gratitude is riches. Complaint is poverty.\n",
      "We never live; we are always in the expectation of living.\n",
      "Keep your face always toward the sunshine - and shadows will fall behind you.\n",
      "We love life, not because we are used to living but because we are used to loving.\n",
      "This is the final test of a gentleman: his respect for those who can be of no possible value to him.\n",
      "So long as a person is capable of self-renewal they are a living being.\n",
      "Nothing ever goes away until it has taught us what we need to know.\n",
      "You were not born a winner, and you were not born a loser. You are what you make yourself be.\n",
      "Do not go where the path may lead, go instead where there is no path and leave a trail.\n",
      "You can stand tall without standing on someone. You can be a victor without having victims.\n",
      "Everyone has an invisible sign hanging from their neck saying, 'Make me feel important.' Never forget this message when working with people.\n",
      "Don't believe what your eyes are telling you. All they show is limitation. Look with your understanding, find out what you already know, and you'll see the way to fly.\n",
      "Freedom is what you do with what's been done to you.\n",
      "Our kindness may be the most persuasive argument for that which we believe.\n",
      "If you talk to a man in a language he understands, that goes to his head. If you talk to him in his language, that goes to his heart.\n",
      "Doing nothing is better than being busy doing nothing.\n",
      "Just as a flower, which seems beautiful has color but no perfume, so are the fruitless words of a man who speaks them but does them not.\n",
      "Wisdom is the power to put our time and our knowledge to the proper use.\n",
      "That's the risk you take if you change: that people you've been involved with won't like the new you. But other people who do will come along.\n",
      "Life without love is like a tree without blossoms or fruit.\n",
      "Knowledge is proud that it knows so much; wisdom is humble that it knows no more.\n",
      "A long habit of not thinking a thing wrong gives it a superficial appearance of being right.\n",
      "The moment one gives close attention to anything, even a blade of grass, it becomes a mysterious, awesome, indescribably magnificent world in itself.\n",
      "To study and not think is a waste. To think and not study is dangerous.\n",
      "I can't believe that God put us on this earth to be ordinary.\n",
      "No man is free who is not master of himself.\n",
      "The personal life deeply lived always expands into truths beyond itself.\n",
      "Our most intimate friend is not he to whom we show the worst, but the best of our nature.\n",
      "Never reach out your hand unless you're willing to extend an arm.\n",
      "There are people who have money and people who are rich.\n",
      "Be the chief but never the lord.\n",
      "It may happen sometimes that a long debate becomes the cause of a longer friendship. Commonly, those who dispute with one another at last agree.\n",
      "I decided that it was not wisdom that enabled poets to write their poetry, but a kind of instinct or inspiration, such as you find in seers and prophets who deliver all their sublime messages without knowing in the least what they mean.\n",
      "Friendship is essentially a partnership.\n",
      "Be miserable. Or motivate yourself. Whatever has to be done, it's always your choice.\n",
      "History will be kind to me for I intend to write it.\n",
      "Don't turn away from possible futures before you're certain you don't have anything to learn from them.\n",
      "This is the whole point of technology. It creates an appetite for immortality on the one hand. It threatens universal extinction on the other. Technology is lust removed from nature.\n",
      "The beginning of wisdom is found in doubting; by doubting we come to the question, and by seeking we may come upon the truth.\n",
      "He who is contented is rich.\n",
      "I'm astounded by people who want to 'know' the universe when it's hard enough to find your way around Chinatown.\n",
      "The entrepreneur always searches for change, responds to it, and exploits it as an opportunity.\n",
      "basic_loop_request took 16.61 sec\n"
     ]
    }
   ],
   "source": [
    "import requests\n",
    "\n",
    "\n",
    "def basic_request(url: str):\n",
    "    response = requests.get(url)\n",
    "    response_json = response.json()\n",
    "    print(response_json[\"content\"])\n",
    "\n",
    "\n",
    "@print_timing\n",
    "def basic_loop_request(url: str):\n",
    "    # Query 50 times the API\n",
    "    for _ in range(50):\n",
    "        basic_request(url)\n",
    "\n",
    "\n",
    "basic_loop_request(api_url)"
   ]
  },
  {
   "cell_type": "markdown",
   "metadata": {},
   "source": [
    "### Results\n",
    "\n",
    "On my machine it took **17.06 sec for 50 requests**. \n",
    "\n",
    "Pretty slow right? But why is that?\n",
    "\n",
    "Each time you make a request, your computer needs to create a new \"session\", format your request, send it and wait to receive the response before doing it again with the next request."
   ]
  },
  {
   "cell_type": "markdown",
   "metadata": {},
   "source": [
    "## The \"session\" way\n",
    "\n",
    "To speed this, we can use a **\"session\"** that will be share by all the requests.\n",
    "\n",
    "You can picture it as a postman that knows you already, so he knows which bell to ring, where is the mailbox,... Instead of having to search for those each time."
   ]
  },
  {
   "cell_type": "code",
   "execution_count": 7,
   "metadata": {},
   "outputs": [
    {
     "name": "stdout",
     "output_type": "stream",
     "text": [
      "The heart has its reasons which reason knows not of.\n",
      "The function of wisdom is to discriminate between good and evil.\n",
      "The sum of wisdom is that time is never lost that is devoted to work.\n",
      "There is only one success - to be able to spend your life in your own way.\n",
      "Ignorant men raise questions that wise men answered a thousand years ago.\n",
      "Gravitation cannot be held responsible for people falling in love. How on earth can you explain in terms of chemistry and physics so important a biological phenomenon as first love? Put your hand on a stove for a minute and it seems like an hour. Sit with that special girl for an hour and it seems like a minute. That's relativity.\n",
      "We don't know a millionth of one percent about anything.\n",
      "Important principles may, and must, be inflexible.\n",
      "Love, friendship and respect do not unite people as much as a common hatred for something.\n",
      "Injuries may be forgiven, but not forgotten.\n",
      "Be content with your lot; one cannot be first in everything.\n",
      "Always remember that you are absolutely unique. Just like everyone else.\n",
      "I'm astounded by people who want to 'know' the universe when it's hard enough to find your way around Chinatown.\n",
      "I'm not in this world to live up to your expectations and you're not in this world to live up to mine.\n",
      "One secret of success in life is for a man to be ready for his opportunity when it comes.\n",
      "The key is to keep company only with people who uplift you, whose presence calls forth your best.\n",
      "It is a common experience that a problem difficult at night is resolved in the morning after the committee of sleep has worked on it.\n",
      "When you dance, your purpose is not to get to a certain place on the floor. It's to enjoy each step along the way.\n",
      "Believe deep down in your heart that you're destined to do great things.\n",
      "Once you choose hope, anything's possible.\n",
      "You've got to go out on a limb sometimes because that's where the fruit is.\n",
      "I was thrown out of college for cheating on the metaphysics exam; I looked into the soul of the boy sitting next to me.\n",
      "Take time to deliberate, but when the time for action has arrived, stop thinking and go in.\n",
      "Interestingly, according to modern astronomers, space is finite. This is a very comforting thought-- particularly for people who can never remember where they have left things.\n",
      "Never, never, never give up.\n",
      "We come to love not by finding a perfect person, but by learning to see an imperfect person perfectly.\n",
      "Love at first sight is easy to understand; it's when two people have been looking at each other for a lifetime that it becomes a miracle.\n",
      "He who lives in harmony with himself lives in harmony with the world.\n",
      "If you have knowledge, let others light their candles in it.\n",
      "The conditions of conquest are always easy. We have but to toil awhile, endure awhile, believe always, and never turn back.\n",
      "It is one of the severest tests of friendship to tell your friend his faults. So to love a man that you cannot bear to see a stain upon him, and to speak painful truth through loving words, that is friendship.\n",
      "Friendship is one mind in two bodies.\n",
      "It is on our failures that we base a new and different and better success.\n",
      "Some people go to priests; others to poetry; I to my friends.\n",
      "A person who never made a mistake never tried anything new.\n",
      "If you don't like something, change it. If you can't change it, change your attitude.\n",
      "We cannot solve our problems with the same thinking we used when we created them.\n",
      "We must embrace pain and burn it as fuel for our journey.\n",
      "Love is a serious mental disease.\n",
      "All our talents increase in the using, and every faculty, both good and bad, strengthen by exercise.\n",
      "But I'll tell you what hermits realize. If you go off into a far, far forest and get very quiet, you'll come to understand that you're connected with everything.\n",
      "It has been my experience that folks who have no vices have very few virtues.\n",
      "Those who cannot learn from history are doomed to repeat it.\n",
      "Don't worry about people stealing your ideas. If your ideas are any good, you'll have to ram them down people's throats.\n",
      "You can't let praise or criticism get to you. It's a weakness to get caught up in either one.\n",
      "Friendship is the marriage of the soul, and this marriage is liable to divorce.\n",
      "All children are artists. The problem is how to remain an artist once he grows up.\n",
      "It is very easy to forgive others their mistakes; it takes more grit to forgive them for having witnessed your own.\n",
      "Grief can be the garden of compassion. If you keep your heart open through everything, your pain can become your greatest ally in your life's search for love and wisdom.\n",
      "If you love life, don't waste time, for time is what life is made up of.\n",
      "session_loop_request took 9.11 sec\n"
     ]
    }
   ],
   "source": [
    "from requests import Session\n",
    "\n",
    "\n",
    "def session_request(url: str, session: Session):\n",
    "    # Instead of using request.get, we use our session\n",
    "    response = session.get(url)\n",
    "    response_json = response.json()\n",
    "    print(response_json[\"content\"])\n",
    "\n",
    "\n",
    "@print_timing\n",
    "def session_loop_request(url: str):\n",
    "    # Create shared session for all of your requests\n",
    "    with Session() as session:\n",
    "        # Query 50 times the API\n",
    "        for _ in range(50):\n",
    "            session_request(url, session)\n",
    "\n",
    "\n",
    "session_loop_request(api_url)"
   ]
  },
  {
   "cell_type": "markdown",
   "metadata": {},
   "source": [
    "### Results\n",
    "\n",
    "It took me **5.99 sec for 50 requests**. That's better!\n",
    "\n",
    "And as you can see, I didn't change that much in the code."
   ]
  },
  {
   "cell_type": "markdown",
   "metadata": {},
   "source": [
    "## The \"Async\" way\n",
    "\n",
    "If you need even more performances, you will need to use [AsyncIo](https://docs.python.org/3/library/asyncio.html).\n",
    "\n",
    "This is a library to allow you to run asynchronous code.\n",
    "\n",
    "Why is that more efficiant? Well, when you send a request you need to wait for the response. And during the waiting time, our computer does nothing.\n",
    "If you count all the time the computer is just \"waiting\" on 50 or more requests, you will be surprised to see that most of the computing time is just waiting for the server to respond.\n",
    "\n",
    "[AsyncIo](https://docs.python.org/3/library/asyncio.html) allow you to bypass that.\n",
    "\n",
    "But as always, it has a cost: complexity.\n",
    "\n",
    "Making your code async will complixify the code a lot and make the debugging not a pleasant experience. Also, you will go so fast that you could be banned by the server.\n",
    "\n",
    "My advice? Use it only if you need it.\n",
    "\n",
    "I will show you a simple example but you want to understand it better, I really advice you **[this video](https://www.youtube.com/watch?v=qAh5dDODJ5k)**!\n",
    "\n",
    "### Requirements\n",
    "In order to simplify a bit the code, I will use [httpx](https://www.python-httpx.org/) a python library that is working the same way as the `requests` module but with few helpers for async."
   ]
  },
  {
   "cell_type": "code",
   "execution_count": 9,
   "metadata": {},
   "outputs": [
    {
     "name": "stdout",
     "output_type": "stream",
     "text": [
      "Requirement already satisfied: httpx in /home/siegfried2021/Bureau/BeCode_AI/LGG-Thomas4-Mathieu/.venv/lib/python3.12/site-packages (0.27.0)\n",
      "Requirement already satisfied: anyio in /home/siegfried2021/Bureau/BeCode_AI/LGG-Thomas4-Mathieu/.venv/lib/python3.12/site-packages (from httpx) (4.4.0)\n",
      "Requirement already satisfied: certifi in /home/siegfried2021/Bureau/BeCode_AI/LGG-Thomas4-Mathieu/.venv/lib/python3.12/site-packages (from httpx) (2024.6.2)\n",
      "Requirement already satisfied: httpcore==1.* in /home/siegfried2021/Bureau/BeCode_AI/LGG-Thomas4-Mathieu/.venv/lib/python3.12/site-packages (from httpx) (1.0.5)\n",
      "Requirement already satisfied: idna in /home/siegfried2021/Bureau/BeCode_AI/LGG-Thomas4-Mathieu/.venv/lib/python3.12/site-packages (from httpx) (3.7)\n",
      "Requirement already satisfied: sniffio in /home/siegfried2021/Bureau/BeCode_AI/LGG-Thomas4-Mathieu/.venv/lib/python3.12/site-packages (from httpx) (1.3.1)\n",
      "Requirement already satisfied: h11<0.15,>=0.13 in /home/siegfried2021/Bureau/BeCode_AI/LGG-Thomas4-Mathieu/.venv/lib/python3.12/site-packages (from httpcore==1.*->httpx) (0.14.0)\n"
     ]
    }
   ],
   "source": [
    "!pip install httpx"
   ]
  },
  {
   "cell_type": "markdown",
   "metadata": {},
   "source": [
    "### Warning!\n",
    "This code won't work in jupyter notebook, there are subtilities for async in jupyter notebook. See [this thread](https://stackoverflow.com/questions/47518874/how-do-i-run-python-asyncio-code-in-a-jupyter-notebook) for more informations.\n",
    "\n",
    "To make it simpler, I will put this code in a .py file and run it in command line:"
   ]
  },
  {
   "cell_type": "markdown",
   "metadata": {},
   "source": [
    "```python\n",
    "from httpx import AsyncClient\n",
    "import asyncio\n",
    "import time\n",
    "\n",
    "\n",
    "api_url = \"https://api.quotable.io/random\"\n",
    "\n",
    "\n",
    "async def session_request_async(url: str, session: AsyncClient):\n",
    "    # Instead of using request.get, we use our session\n",
    "    response = await session.get(url)\n",
    "    response_json = response.json()\n",
    "    print(response_json[\"content\"])\n",
    "    return response_json\n",
    "\n",
    "\n",
    "async def session_loop_request_async(url: str):\n",
    "    # Create shared session for all of your requests\n",
    "    async with AsyncClient() as session:\n",
    "        # Create a list of empty tasks\n",
    "        tasks = []\n",
    "        # Query 50 times the API\n",
    "        for _ in range(50):\n",
    "            # Add a request to tasks\n",
    "            tasks.append(\n",
    "                asyncio.create_task(\n",
    "                    session_request_async(url, session)        \n",
    "                )\n",
    "            )\n",
    "        # Now that all the tasks are registred, run them\n",
    "        responses = await asyncio.gather(*tasks)\n",
    "            \n",
    "            \n",
    "\n",
    "\n",
    "start = time.perf_counter()\n",
    "\n",
    "# We need to use asyncio.run to run the async function\n",
    "asyncio.run(session_loop_request_async(api_url))\n",
    "\n",
    "end = time.perf_counter()\n",
    "execution_time = round((end - start), 2)\n",
    "print(f'session_loop_request_async took {execution_time} sec')\n",
    "```"
   ]
  },
  {
   "cell_type": "code",
   "execution_count": 11,
   "metadata": {},
   "outputs": [
    {
     "name": "stdout",
     "output_type": "stream",
     "text": [
      "Permanence, perseverance and persistence in spite of all obstacles, discouragements, and impossibilities: It is this, that in all things distinguishes the strong soul from the weak.\n",
      "Reality leaves a lot to the imagination.\n",
      "Difficulties are things that show a person what they are.\n",
      "Permanence, perseverance and persistence in spite of all obstacles, discouragements, and impossibilities: It is this, that in all things distinguishes the strong soul from the weak.\n",
      "Attitude is a little thing that makes a big difference.\n",
      "True happiness means forging a strong spirit that is undefeated, no matter how trying our circumstances.\n",
      "Character develops itself in the stream of life.\n",
      "Technology is destructive only in the hands of people who do not realize that they are one and the same process as the universe.\n",
      "Our work is the presentation of our capabilities.\n",
      "Yeah, we all shine on, like the moon, and the stars, and the sun.\n",
      "The will to win, the desire to succeed, the urge to reach your full potential... these are the keys that will unlock the door to personal excellence.\n",
      "There is a difference between happiness and wisdom: he that thinks himself the happiest man is really so; but he that thinks himself the wisest is generally the greatest fool.\n",
      "I know where I'm going and I know the truth, and I don't have to be what you want me to be. I'm free to be what I want.\n",
      "People don't notice whether it's winter or summer when they're happy.\n",
      "It's easier to resist at the beginning than at the end.\n",
      "Do not mind anything that anyone tells you about anyone else. Judge everyone and everything for yourself.\n",
      "It is better to understand a little than to misunderstand a lot.\n",
      "Most of our pocket wisdom is conceived for the use of mediocre people, to discourage them from ambitious attempts, and generally console them in their mediocrity.\n",
      "True friendship ought never to conceal what it thinks.\n",
      "Imagination rules the world.\n",
      "You're never a loser until you quit trying.\n",
      "Speak low, if you speak love.\n",
      "The most effective way to do it, is to do it.\n",
      "I know that inner wisdom is more precious than wealth. The more you spend it, the more you gain.\n",
      "To command is to serve, nothing more and nothing less.\n",
      "To have much learning and skill, to be well-trained in discipline, and good in speech — this is the highest blessing.\n",
      "If you want things to be different, perhaps the answer is to become different yourself.\n",
      "The happiness that is genuinely satisfying is accompanied by the fullest exercise of our faculties and the fullest realization of the world in which we live.\n",
      "To be beautiful means to be yourself. You don't need to be accepted by others. You need to accept yourself.\n",
      "First we thought the PC was a calculator. Then we found out how to turn numbers into letters with ASCII — and we thought it was a typewriter. Then we discovered graphics, and we thought it was a television. With the World Wide Web, we've realized it's a brochure.\n",
      "Knowing your own darkness is the best method for dealing with the darkness of other people.\n",
      "Make the best use of what is in your power and take the rest as it happens.\n",
      "To be wrong is nothing unless you continue to remember it.\n",
      "Ignorance and bungling with love are better than wisdom and skill without.\n",
      "A good hockey player plays where the puck is. A great hockey player plays where the puck is going to be.\n",
      "Life shrinks or expands in proportion to one's courage.\n",
      "Good actions give strength to ourselves and inspire good actions in others.\n",
      "Honesty is the best policy.\n",
      "Fortune befriends the bold.\n",
      "Yesterday is history, tomorrow is a mystery, today is God's gift, that's why we call it the present.\n",
      "No man was ever wise by chance.\n",
      "Irony is the gaiety of reflection and the joy of wisdom.\n",
      "History is written by the victors.\n",
      "When I do good I feel good, when I do bad I feel bad, and that's my religion.\n",
      "I have never been hurt by anything I didn't say.\n",
      "We are made wise not by the recollection of our past, but by the responsibility for our future.\n",
      "So is cheerfulness, or a good temper, the more it is spent, the more remains.\n",
      "It's supposed to be automatic, but actually you have to push this button.\n",
      "Wisdom is nothing but a preparation of the soul, a capacity, a secret art of thinking, feeling and breathing thoughts of unity at every moment of life.\n",
      "We lost because we told ourselves we lost.\n",
      "session_loop_request_async took 0.66 sec\n"
     ]
    }
   ],
   "source": [
    "!python3 ./assets/async_requests.py"
   ]
  },
  {
   "cell_type": "markdown",
   "metadata": {},
   "source": [
    "### Results\n",
    "It only took me **0.8 sec for 50 requests**! That's impressive.\n",
    "\n",
    "But as you can see, it is harder to write, structure and debug. So make sure you **really** need it if you consider using this method."
   ]
  },
  {
   "cell_type": "markdown",
   "metadata": {},
   "source": [
    "## Summary\n",
    "\n",
    "If we gather all our results:\n",
    "\n",
    "| Method                     | Execution time for 50 requests |\n",
    "|----------------------------|--------------------------------|\n",
    "| `requests.get` loop        | 17.06 sec                  |\n",
    "| `requests` with `Session`  | 5.99 sec                   |\n",
    "| `httpx` with `AsyncClient` | 0.8 sec                   |"
   ]
  },
  {
   "cell_type": "markdown",
   "metadata": {},
   "source": []
  }
 ],
 "metadata": {
  "kernelspec": {
   "display_name": "Python 3.10.5 64-bit",
   "language": "python",
   "name": "python3"
  },
  "language_info": {
   "codemirror_mode": {
    "name": "ipython",
    "version": 3
   },
   "file_extension": ".py",
   "mimetype": "text/x-python",
   "name": "python",
   "nbconvert_exporter": "python",
   "pygments_lexer": "ipython3",
   "version": "3.12.3"
  },
  "orig_nbformat": 4,
  "vscode": {
   "interpreter": {
    "hash": "b460384b52104c1e5b9cf54bee46a255d22b2bef338f75ac4ad5d48196028d3c"
   }
  }
 },
 "nbformat": 4,
 "nbformat_minor": 2
}
