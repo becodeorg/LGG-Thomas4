{
 "cells": [
  {
   "cell_type": "markdown",
   "metadata": {},
   "source": [
    "# Scraping with Selenium\n",
    "\n",
    "A lot of modern websites relies on Javascript to navigate dynamically in the content. However the usual Python web scrapers (like `requests`) are not able to execute javascript. Since then they are struggling in getting the content of dynamic web pages.\n",
    "\n",
    "Selenium is THE solution for tackling this problem. Initially it has been created to automate tests on websites. It will open your browser _for real_ and allow you to simulate human interactions in website through Python commands.\n",
    "\n",
    "For example it can be useful when information is accessible by clicking on buttons (which is not possible with `requests` and `beautifulsoup`)."
   ]
  },
  {
   "cell_type": "markdown",
   "metadata": {},
   "source": [
    "### Install Selenium according to this manual\n",
    "\n",
    "https://selenium-python.readthedocs.io/installation.html#downloading-python-bindings-for-selenium/bin\n",
    "\n",
    "*NB: On Linux, put your `geckodriver` (the downloaded extension) in the equivalent path on your machine into `/home/<YOUR_NAME>/.local/bin/`*"
   ]
  },
  {
   "cell_type": "code",
   "execution_count": 1,
   "metadata": {},
   "outputs": [],
   "source": [
    "from selenium import webdriver\n",
    "from selenium.webdriver.common.keys import Keys\n",
    "from selenium.webdriver.common.by import By\n",
    "from selenium.webdriver.firefox.service import Service\n",
    "from selenium.webdriver.firefox.options import Options\n",
    "import logging\n",
    "\n",
    "# Set up service with log\n",
    "service = Service('/snap/bin/geckodriver')\n",
    "service.log_level = logging.DEBUG\n",
    "\n",
    "# Set up options\n",
    "options = Options()\n",
    "options.add_argument('-headless')\n"
   ]
  },
  {
   "cell_type": "markdown",
   "metadata": {},
   "source": [
    "### Search engine simulation"
   ]
  },
  {
   "cell_type": "markdown",
   "metadata": {},
   "source": [
    "We will simulate a query on the official Python website by using the search bar."
   ]
  },
  {
   "cell_type": "code",
   "execution_count": 2,
   "metadata": {},
   "outputs": [
    {
     "name": "stdout",
     "output_type": "stream",
     "text": [
      "Welcome to Python.org\n"
     ]
    }
   ],
   "source": [
    "from selenium import webdriver\n",
    "from selenium.webdriver.common.keys import Keys\n",
    "from selenium.webdriver.common.by import By\n",
    "from selenium.webdriver.firefox.service import Service\n",
    "from selenium.webdriver.firefox.options import Options\n",
    "import logging\n",
    "\n",
    "# Set up service with log\n",
    "service = Service('/snap/bin/geckodriver')\n",
    "service.log_level = logging.DEBUG\n",
    "\n",
    "# Set up options\n",
    "options = Options()\n",
    "options.add_argument('-headless')\n",
    "\n",
    "# Here, we create instance of Firefox WebDriver.\n",
    "driver = webdriver.Firefox(service=service, options=options)\n",
    "\n",
    "# The driver.get method will lead to a page given by the URL. WebDriver will wait until the page is fully\n",
    "# loaded (i.e. the \"onload\" event has been triggered) before returning the control to your script.\n",
    "# It should be noted that if your page uses a lot of AJAX calls when loading, WebDriver may not know\n",
    "# when it was fully loaded.\n",
    "driver.get(\"https://www.python.org/\")\n",
    "\n",
    "# The following line is a statement confirming that the title contains the word \"Python\".\n",
    "assert \"Python\" in driver.title\n",
    "print(driver.title)\n",
    "\n",
    "# WebDriver offers a method `find_element` that aims to search for item based on attributes\n",
    "# For example, the input text element can be located by its name attribute by\n",
    "# using the attribute `name` with the value `q`\n",
    "elem = driver.find_element(By.NAME, \"q\")\n",
    "\n",
    "# Then we send keys. This is similar to entering keys using your keyboard.\n",
    "# Special keys can be sent using the `Keys` class imported in line 7 (from selenium.webdriver.common.keys import Keys).\n",
    "# For security reasons, we will delete any pre-filled text in the input field\n",
    "# (for example, \"Search\") so that it does not affect our search results:\n",
    "elem.clear()\n",
    "elem.send_keys(\"pycon\")\n",
    "elem.send_keys(Keys.RETURN)\n",
    "\n",
    "# After submitting the page, you should get the result if there is one. To ensure that certain results\n",
    "# are found, make an assertion that ensures that the source page does not contain the word \"No results found\".\n",
    "assert \"No results found.\" not in driver.page_source\n",
    "driver.close()"
   ]
  },
  {
   "cell_type": "markdown",
   "metadata": {},
   "source": [
    "### Getting the title of all the articles from the homepage of _The New York Times_\n",
    "\n",
    "First let's open the homepage of the newspaper's website.\n"
   ]
  },
  {
   "cell_type": "code",
   "execution_count": 3,
   "metadata": {},
   "outputs": [],
   "source": [
    "from selenium import webdriver\n",
    "from selenium.webdriver.firefox.service import Service\n",
    "from selenium.webdriver.firefox.options import Options\n",
    "import logging\n",
    "\n",
    "# Set up service with log\n",
    "service = Service('/snap/bin/geckodriver')\n",
    "service.log_level = logging.DEBUG\n",
    "\n",
    "# Set up options\n",
    "options = Options()\n",
    "options.add_argument('-headless')\n",
    "\n",
    "url = \"https://www.nytimes.com/\"\n",
    "\n",
    "driver = webdriver.Firefox(service=service, options=options)\n",
    "driver.get(url)"
   ]
  },
  {
   "cell_type": "markdown",
   "metadata": {},
   "source": [
    "As you can see, you are facing the famous GDPR banner. Let's accept it in order to access the page!"
   ]
  },
  {
   "cell_type": "code",
   "execution_count": 4,
   "metadata": {},
   "outputs": [
    {
     "name": "stderr",
     "output_type": "stream",
     "text": [
      "Error terminating service process.\n",
      "Traceback (most recent call last):\n",
      "  File \"/home/siegfried2021/Bureau/BeCode_AI/LGG-Thomas4-Mathieu/.venv/lib/python3.12/site-packages/selenium/webdriver/common/service.py\", line 170, in _terminate_process\n",
      "    self.process.terminate()\n",
      "  File \"/usr/lib/python3.12/subprocess.py\", line 2211, in terminate\n",
      "    self.send_signal(signal.SIGTERM)\n",
      "  File \"/usr/lib/python3.12/subprocess.py\", line 2203, in send_signal\n",
      "    os.kill(self.pid, sig)\n",
      "PermissionError: [Errno 13] Permission denied\n"
     ]
    },
    {
     "name": "stdout",
     "output_type": "stream",
     "text": [
      "An error occurred: Message: \n",
      "Stacktrace:\n",
      "RemoteError@chrome://remote/content/shared/RemoteError.sys.mjs:8:8\n",
      "WebDriverError@chrome://remote/content/shared/webdriver/Errors.sys.mjs:193:5\n",
      "NoSuchElementError@chrome://remote/content/shared/webdriver/Errors.sys.mjs:511:5\n",
      "dom.find/</<@chrome://remote/content/shared/DOM.sys.mjs:136:16\n",
      "\n"
     ]
    },
    {
     "name": "stderr",
     "output_type": "stream",
     "text": [
      "Error terminating service process.\n",
      "Traceback (most recent call last):\n",
      "  File \"/home/siegfried2021/Bureau/BeCode_AI/LGG-Thomas4-Mathieu/.venv/lib/python3.12/site-packages/selenium/webdriver/common/service.py\", line 170, in _terminate_process\n",
      "    self.process.terminate()\n",
      "  File \"/usr/lib/python3.12/subprocess.py\", line 2211, in terminate\n",
      "    self.send_signal(signal.SIGTERM)\n",
      "  File \"/usr/lib/python3.12/subprocess.py\", line 2203, in send_signal\n",
      "    os.kill(self.pid, sig)\n",
      "PermissionError: [Errno 13] Permission denied\n"
     ]
    }
   ],
   "source": [
    "from selenium import webdriver\n",
    "from selenium.webdriver.common.by import By\n",
    "from selenium.webdriver.support.ui import WebDriverWait\n",
    "from selenium.webdriver.support import expected_conditions as EC\n",
    "from selenium.webdriver.firefox.service import Service\n",
    "from selenium.webdriver.firefox.options import Options\n",
    "\n",
    "# Set up the geckodriver service and Firefox options for headless mode\n",
    "service = Service('/snap/bin/geckodriver')\n",
    "options = Options()\n",
    "options.add_argument('-headless')\n",
    "\n",
    "# Initialize the WebDriver\n",
    "driver = webdriver.Firefox(service=service, options=options)\n",
    "\n",
    "# Open the target webpage\n",
    "driver.get('https://www.nytimes.com/')\n",
    "\n",
    "# Wait up to 10 seconds for the cookie button to be clickable\n",
    "try:\n",
    "    wait = WebDriverWait(driver, 10)\n",
    "    cookie_button = wait.until(EC.element_to_be_clickable((By.XPATH, \"//button[@data-testid='GDPR-accept']\")))\n",
    "\n",
    "    # Click the button\n",
    "    cookie_button.click()\n",
    "    print(\"Cookie button clicked successfully.\")\n",
    "except Exception as e:\n",
    "    print(f\"An error occurred: {e}\")\n",
    "\n",
    "# Quit the driver\n",
    "driver.quit()"
   ]
  },
  {
   "cell_type": "markdown",
   "metadata": {},
   "source": [
    "Now let's get all the titles of the articles by using XPATH and let's store them in a list\n"
   ]
  },
  {
   "cell_type": "code",
   "execution_count": 1,
   "metadata": {},
   "outputs": [
    {
     "data": {
      "text/plain": [
       "[]"
      ]
     },
     "execution_count": 1,
     "metadata": {},
     "output_type": "execute_result"
    }
   ],
   "source": [
    "from selenium import webdriver\n",
    "from selenium.webdriver.common.by import By\n",
    "from selenium.webdriver.firefox.service import Service\n",
    "from selenium.webdriver.firefox.options import Options\n",
    "import logging\n",
    "\n",
    "# Set up the geckodriver service and Firefox options for headless mode\n",
    "service = Service('/snap/bin/geckodriver')\n",
    "service.log_level = logging.DEBUG\n",
    "options = Options()\n",
    "options.add_argument('-headless')\n",
    "\n",
    "# Initialize the WebDriver\n",
    "driver = webdriver.Firefox(service=service, options=options)\n",
    "\n",
    "# Open the target webpage\n",
    "driver.get('https://www.nytimes.com/')\n",
    "article_titles = driver.find_elements(By.CLASS_NAME, \"summary-class css-8h5y1w\")\n",
    "all_titles = []\n",
    "for title in article_titles:\n",
    "    all_titles.append(title.text)\n",
    "\n",
    "all_titles"
   ]
  },
  {
   "cell_type": "code",
   "execution_count": 5,
   "metadata": {},
   "outputs": [
    {
     "name": "stdout",
     "output_type": "stream",
     "text": [
      "['Federal Reserve officials had initially predicted three rate cuts for the year. Earlier, inflation data for May came in cooler than expected.', 'The vote was an indication that ordinary evangelicals are increasingly open to arguments that equate embryos with human life.', 'Democrats have leads in battleground states, but strategists aligned with both parties caution that the fight for Senate control is just starting.', 'He was a sharpshooting, high-scoring Hall of Fame guard for the Lakers and later an executive with the team. His silhouette became the N.B.A.’s logo.', 'Karine Jean-Pierre, the White House press secretary, said she had not spoken with President Biden about the matter yet.', 'The Biden administration is taking new measures to stop China from helping Russia sustain the war. U.S. officials hope European nations will follow.', 'President Emmanuel Macron called on people of good will to come together to defend the Republic in the snap election he decided to call.', 'Chancellor Olaf Scholz and his governing coalition emerged battered from the vote for the European Parliament. But a snap election seems unlikely.', 'A Delaware family sees itself in the Hunter Biden story.', 'Secretary of State Antony Blinken said the U.S. would keep pushing Israel and Hamas “on an urgent basis” to reach a deal.', 'The investigation has prompted a debate inside Israel about the repression of free speech and academic freedoms since the war began.', 'With hit songs and an understated personality, she incarnated a 1960s cool still treasured by the French.', 'A proposal awaiting financing would attempt to bring together dozens of the world’s best boxers in a single, Saudi-run pro league.', 'For this year’s nominees, some of their most rewarding — and realistic — work was in the smaller details.', 'The court affirmed a lower court’s dismissal, bringing to an end a suit brought by the last known survivors of the 1921 attack by a white mob.', '', '', '', '', '', '', '', '', '', '', '', '', '', '', '', '']\n",
      "Article Titles:\n",
      "Federal Reserve officials had initially predicted three rate cuts for the year. Earlier, inflation data for May came in cooler than expected.\n",
      "The vote was an indication that ordinary evangelicals are increasingly open to arguments that equate embryos with human life.\n",
      "Democrats have leads in battleground states, but strategists aligned with both parties caution that the fight for Senate control is just starting.\n",
      "He was a sharpshooting, high-scoring Hall of Fame guard for the Lakers and later an executive with the team. His silhouette became the N.B.A.’s logo.\n",
      "Karine Jean-Pierre, the White House press secretary, said she had not spoken with President Biden about the matter yet.\n",
      "The Biden administration is taking new measures to stop China from helping Russia sustain the war. U.S. officials hope European nations will follow.\n",
      "President Emmanuel Macron called on people of good will to come together to defend the Republic in the snap election he decided to call.\n",
      "Chancellor Olaf Scholz and his governing coalition emerged battered from the vote for the European Parliament. But a snap election seems unlikely.\n",
      "A Delaware family sees itself in the Hunter Biden story.\n",
      "Secretary of State Antony Blinken said the U.S. would keep pushing Israel and Hamas “on an urgent basis” to reach a deal.\n",
      "The investigation has prompted a debate inside Israel about the repression of free speech and academic freedoms since the war began.\n",
      "With hit songs and an understated personality, she incarnated a 1960s cool still treasured by the French.\n",
      "A proposal awaiting financing would attempt to bring together dozens of the world’s best boxers in a single, Saudi-run pro league.\n",
      "For this year’s nominees, some of their most rewarding — and realistic — work was in the smaller details.\n",
      "The court affirmed a lower court’s dismissal, bringing to an end a suit brought by the last known survivors of the 1921 attack by a white mob.\n",
      "\n",
      "\n",
      "\n",
      "\n",
      "\n",
      "\n",
      "\n",
      "\n",
      "\n",
      "\n",
      "\n",
      "\n",
      "\n",
      "\n",
      "\n",
      "\n"
     ]
    }
   ],
   "source": [
    "# Set up the geckodriver service and Firefox options for headless mode\n",
    "geckodriver_path = '/snap/bin/geckodriver'  # Replace with your geckodriver path\n",
    "service = Service(geckodriver_path)\n",
    "service.log_level = logging.DEBUG\n",
    "options = Options()\n",
    "options.headless = True  # Use headless mode\n",
    "\n",
    "# Initialize the WebDriver\n",
    "driver = None\n",
    "try:\n",
    "    driver = webdriver.Firefox(service=service, options=options)\n",
    "\n",
    "    # Open the target webpage\n",
    "    driver.get('https://www.nytimes.com/')\n",
    "\n",
    "    # Find all elements with class name 'summary-class css-8h5y1w'\n",
    "    article_titles = driver.find_elements(By.CLASS_NAME, \"summary-class\")\n",
    "\n",
    "    # Extract text from each element\n",
    "    all_titles = []\n",
    "    for title in article_titles:\n",
    "        all_titles.append(title.text)\n",
    "    print(all_titles)\n",
    "\n",
    "    # Print or do further processing with the extracted titles\n",
    "    print(\"Article Titles:\")\n",
    "    for title in all_titles:\n",
    "        print(title)\n",
    "\n",
    "except Exception as e:\n",
    "    print(f\"An error occurred: {e}\")"
   ]
  },
  {
   "cell_type": "markdown",
   "metadata": {},
   "source": [
    "Here we are ! Let's close the browser then !"
   ]
  },
  {
   "cell_type": "code",
   "execution_count": 6,
   "metadata": {},
   "outputs": [
    {
     "ename": "WebDriverException",
     "evalue": "Message: Failed to decode response from marionette\n",
     "output_type": "error",
     "traceback": [
      "\u001b[0;31m---------------------------------------------------------------------------\u001b[0m",
      "\u001b[0;31mWebDriverException\u001b[0m                        Traceback (most recent call last)",
      "Cell \u001b[0;32mIn[6], line 1\u001b[0m\n\u001b[0;32m----> 1\u001b[0m \u001b[43mdriver\u001b[49m\u001b[38;5;241;43m.\u001b[39;49m\u001b[43mclose\u001b[49m\u001b[43m(\u001b[49m\u001b[43m)\u001b[49m\n",
      "File \u001b[0;32m~/Bureau/BeCode_AI/LGG-Thomas4-Mathieu/.venv/lib/python3.12/site-packages/selenium/webdriver/remote/webdriver.py:458\u001b[0m, in \u001b[0;36mWebDriver.close\u001b[0;34m(self)\u001b[0m\n\u001b[1;32m    450\u001b[0m \u001b[38;5;28;01mdef\u001b[39;00m \u001b[38;5;21mclose\u001b[39m(\u001b[38;5;28mself\u001b[39m) \u001b[38;5;241m-\u001b[39m\u001b[38;5;241m>\u001b[39m \u001b[38;5;28;01mNone\u001b[39;00m:\n\u001b[1;32m    451\u001b[0m \u001b[38;5;250m    \u001b[39m\u001b[38;5;124;03m\"\"\"Closes the current window.\u001b[39;00m\n\u001b[1;32m    452\u001b[0m \n\u001b[1;32m    453\u001b[0m \u001b[38;5;124;03m    :Usage:\u001b[39;00m\n\u001b[0;32m   (...)\u001b[0m\n\u001b[1;32m    456\u001b[0m \u001b[38;5;124;03m            driver.close()\u001b[39;00m\n\u001b[1;32m    457\u001b[0m \u001b[38;5;124;03m    \"\"\"\u001b[39;00m\n\u001b[0;32m--> 458\u001b[0m     \u001b[38;5;28;43mself\u001b[39;49m\u001b[38;5;241;43m.\u001b[39;49m\u001b[43mexecute\u001b[49m\u001b[43m(\u001b[49m\u001b[43mCommand\u001b[49m\u001b[38;5;241;43m.\u001b[39;49m\u001b[43mCLOSE\u001b[49m\u001b[43m)\u001b[49m\n",
      "File \u001b[0;32m~/Bureau/BeCode_AI/LGG-Thomas4-Mathieu/.venv/lib/python3.12/site-packages/selenium/webdriver/remote/webdriver.py:347\u001b[0m, in \u001b[0;36mWebDriver.execute\u001b[0;34m(self, driver_command, params)\u001b[0m\n\u001b[1;32m    345\u001b[0m response \u001b[38;5;241m=\u001b[39m \u001b[38;5;28mself\u001b[39m\u001b[38;5;241m.\u001b[39mcommand_executor\u001b[38;5;241m.\u001b[39mexecute(driver_command, params)\n\u001b[1;32m    346\u001b[0m \u001b[38;5;28;01mif\u001b[39;00m response:\n\u001b[0;32m--> 347\u001b[0m     \u001b[38;5;28;43mself\u001b[39;49m\u001b[38;5;241;43m.\u001b[39;49m\u001b[43merror_handler\u001b[49m\u001b[38;5;241;43m.\u001b[39;49m\u001b[43mcheck_response\u001b[49m\u001b[43m(\u001b[49m\u001b[43mresponse\u001b[49m\u001b[43m)\u001b[49m\n\u001b[1;32m    348\u001b[0m     response[\u001b[38;5;124m\"\u001b[39m\u001b[38;5;124mvalue\u001b[39m\u001b[38;5;124m\"\u001b[39m] \u001b[38;5;241m=\u001b[39m \u001b[38;5;28mself\u001b[39m\u001b[38;5;241m.\u001b[39m_unwrap_value(response\u001b[38;5;241m.\u001b[39mget(\u001b[38;5;124m\"\u001b[39m\u001b[38;5;124mvalue\u001b[39m\u001b[38;5;124m\"\u001b[39m, \u001b[38;5;28;01mNone\u001b[39;00m))\n\u001b[1;32m    349\u001b[0m     \u001b[38;5;28;01mreturn\u001b[39;00m response\n",
      "File \u001b[0;32m~/Bureau/BeCode_AI/LGG-Thomas4-Mathieu/.venv/lib/python3.12/site-packages/selenium/webdriver/remote/errorhandler.py:229\u001b[0m, in \u001b[0;36mErrorHandler.check_response\u001b[0;34m(self, response)\u001b[0m\n\u001b[1;32m    227\u001b[0m         alert_text \u001b[38;5;241m=\u001b[39m value[\u001b[38;5;124m\"\u001b[39m\u001b[38;5;124malert\u001b[39m\u001b[38;5;124m\"\u001b[39m]\u001b[38;5;241m.\u001b[39mget(\u001b[38;5;124m\"\u001b[39m\u001b[38;5;124mtext\u001b[39m\u001b[38;5;124m\"\u001b[39m)\n\u001b[1;32m    228\u001b[0m     \u001b[38;5;28;01mraise\u001b[39;00m exception_class(message, screen, stacktrace, alert_text)  \u001b[38;5;66;03m# type: ignore[call-arg]  # mypy is not smart enough here\u001b[39;00m\n\u001b[0;32m--> 229\u001b[0m \u001b[38;5;28;01mraise\u001b[39;00m exception_class(message, screen, stacktrace)\n",
      "\u001b[0;31mWebDriverException\u001b[0m: Message: Failed to decode response from marionette\n"
     ]
    }
   ],
   "source": [
    "driver.close()"
   ]
  },
  {
   "cell_type": "markdown",
   "metadata": {},
   "source": [
    "### Exercise\n",
    "\n",
    "1. Use Selenium for opening the homepage of your favourite newspaper (not the New York Times, too easy)\n",
    "2. Close the cookie banner (if it appears)\n",
    "3. Get the link of the first article of the page and open it\n",
    "4. Print the title and the content of the article\n",
    "\n",
    "**tip:** [Newspaper3k](https://pypi.org/project/newspaper3k/) is a powerful library for scraping articles from newspapers. Have a look to the `fulltext` method."
   ]
  },
  {
   "cell_type": "code",
   "execution_count": null,
   "metadata": {},
   "outputs": [],
   "source": []
  }
 ],
 "metadata": {
  "kernelspec": {
   "display_name": "Python 3.10.5 ('infosessionvenv')",
   "language": "python",
   "name": "python3"
  },
  "language_info": {
   "codemirror_mode": {
    "name": "ipython",
    "version": 3
   },
   "file_extension": ".py",
   "mimetype": "text/x-python",
   "name": "python",
   "nbconvert_exporter": "python",
   "pygments_lexer": "ipython3",
   "version": "3.12.3"
  },
  "vscode": {
   "interpreter": {
    "hash": "661c13da0699b4d3adfbe1192573631e3fbd9fa55405ad8c238e615a4e7e8a33"
   }
  }
 },
 "nbformat": 4,
 "nbformat_minor": 2
}
