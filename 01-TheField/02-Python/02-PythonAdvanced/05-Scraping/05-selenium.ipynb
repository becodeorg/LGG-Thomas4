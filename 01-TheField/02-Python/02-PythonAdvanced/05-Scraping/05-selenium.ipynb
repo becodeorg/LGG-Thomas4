{
 "cells": [
  {
   "cell_type": "markdown",
   "metadata": {},
   "source": [
    "# Scraping with Selenium\n",
    "\n",
    "A lot of modern websites relies on Javascript to navigate dynamically in the content. However the usual Python web scrapers (like `requests`) are not able to execute javascript. Since then they are struggling in getting the content of dynamic web pages.\n",
    "\n",
    "Selenium is THE solution for tackling this problem. Initially it has been created to automate tests on websites. It will open your browser _for real_ and allow you to simulate human interactions in website through Python commands.\n",
    "\n",
    "For example it can be useful when information is accessible by clicking on buttons (which is not possible with `requests` and `beautifulsoup`)."
   ]
  },
  {
   "cell_type": "markdown",
   "metadata": {},
   "source": [
    "### Install Selenium according to this manual\n",
    "\n",
    "https://selenium-python.readthedocs.io/installation.html#downloading-python-bindings-for-selenium/bin\n",
    "\n",
    "*NB: On Linux, put your `geckodriver` (the downloaded extension) in the equivalent path on your machine into `/home/<YOUR_NAME>/.local/bin/`*"
   ]
  },
  {
   "cell_type": "code",
   "execution_count": 41,
   "metadata": {},
   "outputs": [],
   "source": [
    "# from selenium import webdriver\n",
    "# from selenium.webdriver.common.keys import Keys\n",
    "# from selenium.webdriver.common.by import By\n",
    "# from selenium.webdriver.firefox.service import Service\n",
    "# from selenium.webdriver.firefox.options import Options\n",
    "# import logging\n",
    "\n",
    "# # Set up service with log\n",
    "# service = Service('/snap/bin/geckodriver')\n",
    "# service.log_level = logging.DEBUG\n",
    "\n",
    "# # Set up options\n",
    "# options = Options()\n",
    "# options.add_argument('-headless')\n",
    "\n",
    "from selenium import webdriver\n",
    "from selenium.webdriver.common.keys import Keys\n",
    "from selenium.webdriver.common.by import By"
   ]
  },
  {
   "cell_type": "code",
   "execution_count": 42,
   "metadata": {},
   "outputs": [],
   "source": [
    "\n",
    "# Specify the path to the chromedriver if it's not in your PATH\n",
    "path = '/usr/local/bin/chromedriver'\n",
    "driver = webdriver.Chrome()\n",
    "# The driver.get method will lead to a page given by the URL. WebDriver will wait until the page is fully\n",
    "# loaded (i.e. the \"onload\" event has been triggered) before returning the control to your script.\n",
    "# It should be noted that if your page uses a lot of AJAX calls when loading, WebDriver may not know\n",
    "# when it was fully loaded.\n",
    "driver.get(\"http://www.python.org\")\n",
    "\n",
    "# The following line is a statement confirming that the title contains the word \"Python\".\n",
    "assert \"Python\" in driver.title\n",
    "\n",
    "# WebDriver offers a method `find_element` that aims to search for item based on attributes\n",
    "# For example, the input text element can be located by its name attribute by\n",
    "# using the attribute `name` with the value `q`\n",
    "elem = driver.find_element(By.NAME, \"q\")\n",
    "\n",
    "# Then we send keys. This is similar to entering keys using your keyboard.\n",
    "# Special keys can be sent using the `Keys` class imported in line 7 (from selenium.webdriver.common.keys import Keys).\n",
    "# For security reasons, we will delete any pre-filled text in the input field\n",
    "# (for example, \"Search\") so that it does not affect our search results:\n",
    "elem.clear()\n",
    "elem.send_keys(\"pycon\")\n",
    "elem.send_keys(Keys.RETURN)\n",
    "\n",
    "# After submitting the page, you should get the result if there is one. To ensure that certain results\n",
    "# are found, make an assertion that ensures that the source page does not contain the word \"No results found\".\n",
    "assert \"No results found.\" not in driver.page_source\n",
    "driver.close()"
   ]
  },
  {
   "cell_type": "markdown",
   "metadata": {},
   "source": [
    "### Search engine simulation"
   ]
  },
  {
   "cell_type": "markdown",
   "metadata": {},
   "source": [
    "We will simulate a query on the official Python website by using the search bar."
   ]
  },
  {
   "cell_type": "code",
   "execution_count": 43,
   "metadata": {},
   "outputs": [],
   "source": [
    "# from selenium import webdriver\n",
    "# from selenium.webdriver.common.keys import Keys\n",
    "# from selenium.webdriver.common.by import By\n",
    "# from selenium.webdriver.firefox.service import Service\n",
    "# from selenium.webdriver.firefox.options import Options\n",
    "# import logging\n",
    "\n",
    "# # Set up service with log\n",
    "# service = Service('/snap/bin/geckodriver')\n",
    "# service.log_level = logging.DEBUG\n",
    "\n",
    "# # Set up options\n",
    "# options = Options()\n",
    "# options.add_argument('-headless')\n",
    "\n",
    "# # Here, we create instance of Firefox WebDriver.\n",
    "# driver = webdriver.Firefox(service=service, options=options)\n",
    "\n",
    "# # The driver.get method will lead to a page given by the URL. WebDriver will wait until the page is fully\n",
    "# # loaded (i.e. the \"onload\" event has been triggered) before returning the control to your script.\n",
    "# # It should be noted that if your page uses a lot of AJAX calls when loading, WebDriver may not know\n",
    "# # when it was fully loaded.\n",
    "# driver.get(\"https://www.python.org/\")\n",
    "\n",
    "# # The following line is a statement confirming that the title contains the word \"Python\".\n",
    "# assert \"Python\" in driver.title\n",
    "# print(driver.title)\n",
    "\n",
    "# # WebDriver offers a method `find_element` that aims to search for item based on attributes\n",
    "# # For example, the input text element can be located by its name attribute by\n",
    "# # using the attribute `name` with the value `q`\n",
    "# elem = driver.find_element(By.NAME, \"q\")\n",
    "\n",
    "# # Then we send keys. This is similar to entering keys using your keyboard.\n",
    "# # Special keys can be sent using the `Keys` class imported in line 7 (from selenium.webdriver.common.keys import Keys).\n",
    "# # For security reasons, we will delete any pre-filled text in the input field\n",
    "# # (for example, \"Search\") so that it does not affect our search results:\n",
    "# elem.clear()\n",
    "# elem.send_keys(\"pycon\")\n",
    "# elem.send_keys(Keys.RETURN)\n",
    "\n",
    "# # After submitting the page, you should get the result if there is one. To ensure that certain results\n",
    "# # are found, make an assertion that ensures that the source page does not contain the word \"No results found\".\n",
    "# assert \"No results found.\" not in driver.page_source\n",
    "# driver.close()\n",
    "\n"
   ]
  },
  {
   "cell_type": "markdown",
   "metadata": {},
   "source": [
    "### Getting the title of all the articles from the homepage of _The New York Times_\n",
    "\n",
    "First let's open the homepage of the newspaper's website.\n"
   ]
  },
  {
   "cell_type": "code",
   "execution_count": 49,
   "metadata": {},
   "outputs": [],
   "source": [
    "# from selenium import webdriver\n",
    "# from selenium.webdriver.firefox.service import Service\n",
    "# from selenium.webdriver.firefox.options import Options\n",
    "# import logging\n",
    "\n",
    "# # Set up service with log\n",
    "# service = Service('/snap/bin/geckodriver')\n",
    "# service.log_level = logging.DEBUG\n",
    "\n",
    "# # Set up options\n",
    "# options = Options()\n",
    "# options.add_argument('-headless')\n",
    "\n",
    "# url = \"https://www.nytimes.com/\"\n",
    "\n",
    "# driver = webdriver.Firefox(service=service, options=options)\n",
    "# driver.get(url)\n",
    "\n",
    "url = \"https://www.nytimes.com/\"\n",
    "\n",
    "driver = webdriver.Chrome()\n",
    "driver.get(url)"
   ]
  },
  {
   "cell_type": "markdown",
   "metadata": {},
   "source": [
    "As you can see, you are facing the famous GDPR banner. Let's accept it in order to access the page!"
   ]
  },
  {
   "cell_type": "code",
   "execution_count": 47,
   "metadata": {},
   "outputs": [],
   "source": [
    "# from selenium import webdriver\n",
    "# from selenium.webdriver.common.by import By\n",
    "# from selenium.webdriver.support.ui import WebDriverWait\n",
    "# from selenium.webdriver.support import expected_conditions as EC\n",
    "# from selenium.webdriver.firefox.service import Service\n",
    "# from selenium.webdriver.firefox.options import Options\n",
    "\n",
    "# # Set up the geckodriver service and Firefox options for headless mode\n",
    "# service = Service('/snap/bin/geckodriver')\n",
    "# options = Options()\n",
    "# options.add_argument('-headless')\n",
    "\n",
    "# # Initialize the WebDriver\n",
    "# driver = webdriver.Firefox(service=service, options=options)\n",
    "\n",
    "# # Open the target webpage\n",
    "# driver.get('https://www.nytimes.com/')\n",
    "\n",
    "# # Wait up to 10 seconds for the cookie button to be clickable\n",
    "# try:\n",
    "#     wait = WebDriverWait(driver, 10)\n",
    "#     cookie_button = wait.until(EC.element_to_be_clickable((By.XPATH, \"//button[@data-testid='GDPR-accept']\")))\n",
    "\n",
    "#     # Click the button\n",
    "#     cookie_button.click()\n",
    "#     print(\"Cookie button clicked successfully.\")\n",
    "# except Exception as e:\n",
    "#     print(f\"An error occurred: {e}\")\n",
    "\n",
    "# # Quit the driver\n",
    "# driver.quit()"
   ]
  },
  {
   "cell_type": "markdown",
   "metadata": {},
   "source": [
    "Now let's get all the titles of the articles by using XPATH and let's store them in a list\n"
   ]
  },
  {
   "cell_type": "code",
   "execution_count": 52,
   "metadata": {},
   "outputs": [],
   "source": [
    "# from selenium import webdriver\n",
    "# from selenium.webdriver.common.by import By\n",
    "# from selenium.webdriver.firefox.service import Service\n",
    "# from selenium.webdriver.firefox.options import Options\n",
    "# import logging\n",
    "\n",
    "# # Set up the geckodriver service and Firefox options for headless mode\n",
    "# service = Service('/snap/bin/geckodriver')\n",
    "# service.log_level = logging.DEBUG\n",
    "# options = Options()\n",
    "# options.add_argument('-headless')\n",
    "\n",
    "# # Initialize the WebDriver\n",
    "# driver = webdriver.Firefox(service=service, options=options)\n",
    "\n",
    "# # Open the target webpage\n",
    "# driver.get('https://www.nytimes.com/')\n",
    "# article_titles = driver.find_elements(By.CLASS_NAME, \"summary-class css-8h5y1w\")\n",
    "# all_titles = []\n",
    "# for title in article_titles:\n",
    "#     all_titles.append(title.text)\n",
    "\n",
    "# all_titles"
   ]
  },
  {
   "cell_type": "code",
   "execution_count": 59,
   "metadata": {},
   "outputs": [
    {
     "name": "stdout",
     "output_type": "stream",
     "text": [
      "['Just two months ago, President Biden appeared to have a daunting financial advantage. After Donald Trump was convicted of 34 felonies, Republicans rallied.', 'Pharmacy benefit managers are driving up drug costs for millions of Americans, employers and the government.', 'The Israeli leader’s quarrels with the White House, his military and his coalition partners have escalated at a pivotal time in the war in Gaza.', 'Robert Winnett will stay at The Daily Telegraph after reports raised questions about his ties to unethical news gathering practices.', 'Economists are debating what effect the singer’s sweep through Europe will have this summer as swarms of fans increase demand for hotels and services.', 'Judge Aileen Cannon has repeatedly proved willing to hear out even far-fetched arguments from former President Trump’s legal team.', 'As the Supreme Court enters the final weeks of its term, it is poised to issue a series of blockbuster decisions.', 'People all over the world are facing severe heat, floods and fire, aggravated by the use of fossil fuels. The year isn’t halfway done.', 'Global warming has led to more extreme weather earlier and later in the year, causing New Yorkers to rethink their relationship to the seasonal calendar.', 'Nico Nuño-Kelley, 17, fell six stories from the roof of his Manhattan apartment building after vaping marijuana. His anguished family wants answers.', 'A lawsuit is challenging a societal assumption that all women are “destined to become a mother.”', 'A special presidential election campaign is featuring blistering attacks on the status quo by conservatives and the lone reformer alike.', 'It might be America’s most-played sport. Now it’s quietly becoming a TV success story.', 'Service was largely restored by Friday morning, though some trains were still canceled.', 'One report documented antisemitic threats; the other, anti-Muslim threats. Both signaled that there may be little room for agreement.', 'In fewer than five years, Britain’s main opposition party has gone from massive defeat to the favorite to win next month’s election.', 'On a night that honored Willie Mays, who died on Tuesday, and the Negro leagues, a baseball game was almost beside the point.', 'The singer and songwriter who rose from the ’60s British folk-rock scene lost her voice to a neurological disorder. So she wrote tracks for others.', 'Guess the 5-letter word with 6 chances.', 'Uncover hidden words and reveal the theme.', 'Group words that share a common thread.', 'In case you need some puzzle help.', 'How many words can you make with 7 letters?', 'Get clued in with wordplay, every day.']\n"
     ]
    }
   ],
   "source": [
    "# Set up the geckodriver service and Firefox options for headless mode\n",
    "# geckodriver_path = '/snap/bin/geckodriver'  # Replace with your geckodriver path\n",
    "# service = Service(geckodriver_path)\n",
    "# service.log_level = logging.DEBUG\n",
    "# options = Options()\n",
    "# options.headless = True  # Use headless mode\n",
    "\n",
    "# # Initialize the WebDriver\n",
    "# driver = None\n",
    "# try:\n",
    "#     driver = webdriver.Firefox(service=service, options=options)\n",
    "\n",
    "#     # Open the target webpage\n",
    "#     driver.get('https://www.nytimes.com/')\n",
    "\n",
    "#     # Find all elements with class name 'summary-class css-8h5y1w'\n",
    "#     article_titles = driver.find_elements(By.CLASS_NAME, \"summary-class\")\n",
    "\n",
    "#     # Extract text from each element\n",
    "#     all_titles = []\n",
    "#     for title in article_titles:\n",
    "#         all_titles.append(title.text)\n",
    "#     print(all_titles)\n",
    "\n",
    "#     # Print or do further processing with the extracted titles\n",
    "#     print(\"Article Titles:\")\n",
    "#     for title in all_titles:\n",
    "#         print(title)\n",
    "\n",
    "# except Exception as e:\n",
    "#     print(f\"An error occurred: {e}\")\n",
    "\n",
    "from selenium import webdriver\n",
    "# from selenium.webdriver.common.keys import Keys\n",
    "from selenium.webdriver.common.by import By\n",
    "from selenium.webdriver.support.ui import WebDriverWait\n",
    "from selenium.webdriver.support import expected_conditions as EC\n",
    "\n",
    "url = \"https://www.nytimes.com/\"\n",
    "\n",
    "driver = webdriver.Chrome()\n",
    "driver.get(url)\n",
    "\n",
    "try:\n",
    "    article_titles = WebDriverWait(driver, 10).until(EC.presence_of_all_elements_located((By.CLASS_NAME, \"summary-class\")))\n",
    "    all_titles = [title.text for title in article_titles]\n",
    "    print(all_titles)\n",
    "    driver.close()\n",
    "\n",
    "except Exception as e:\n",
    "    print(f\"An error occurred: {e}\")"
   ]
  },
  {
   "cell_type": "code",
   "execution_count": null,
   "metadata": {},
   "outputs": [],
   "source": [
    "# Set up the geckodriver service and Firefox options for headless mode\n",
    "# geckodriver_path = '/snap/bin/geckodriver'  # Replace with your geckodriver path\n",
    "# service = Service(geckodriver_path)\n",
    "# service.log_level = logging.DEBUG\n",
    "# options = Options()\n",
    "# options.headless = True  # Use headless mode\n",
    "\n",
    "# # Initialize the WebDriver\n",
    "# driver = None\n",
    "# try:\n",
    "#     driver = webdriver.Firefox(service=service, options=options)\n",
    "\n",
    "#     # Open the target webpage\n",
    "#     driver.get('https://www.nytimes.com/')\n",
    "\n",
    "#     # Find all elements with class name 'summary-class css-8h5y1w'\n",
    "#     article_titles = driver.find_elements(By.CLASS_NAME, \"summary-class\")\n",
    "\n",
    "#     # Extract text from each element\n",
    "#     all_titles = []\n",
    "#     for title in article_titles:\n",
    "#         all_titles.append(title.text)\n",
    "#     print(all_titles)\n",
    "\n",
    "#     # Print or do further processing with the extracted titles\n",
    "#     print(\"Article Titles:\")\n",
    "#     for title in all_titles:\n",
    "#         print(title)\n",
    "\n",
    "# except Exception as e:\n",
    "#     print(f\"An error occurred: {e}\")"
   ]
  },
  {
   "cell_type": "markdown",
   "metadata": {},
   "source": [
    "Here we are ! Let's close the browser then !"
   ]
  },
  {
   "cell_type": "code",
   "execution_count": null,
   "metadata": {},
   "outputs": [],
   "source": []
  },
  {
   "cell_type": "markdown",
   "metadata": {},
   "source": [
    "### Exercise\n",
    "\n",
    "1. Use Selenium for opening the homepage of your favourite newspaper (not the New York Times, too easy)\n",
    "2. Close the cookie banner (if it appears)\n",
    "3. Get the link of the first article of the page and open it\n",
    "4. Print the title and the content of the article\n",
    "\n",
    "**tip:** [Newspaper3k](https://pypi.org/project/newspaper3k/) is a powerful library for scraping articles from newspapers. Have a look to the `fulltext` method."
   ]
  },
  {
   "cell_type": "code",
   "execution_count": 62,
   "metadata": {},
   "outputs": [
    {
     "name": "stdout",
     "output_type": "stream",
     "text": [
      "Cookie button clicked successfully.\n",
      "['Jacques Attali: \"Je n’ai aucune raison d’être moins en colère contre les acteurs de cette gigantesque farce. Macron a agi de la pire des façons\"', 'Barré dans la course à la coprésidence de Défi, Julien Lemoine quitte le parti et rejoint les Engagés: \"Défi, en Wallonie, est voué à s’éteindre\"', 'Les provinces wallonnes coûtent plus cher que les provinces flamandes : “Parce que nous faisons plus de choses”', 'Des négos rapides, oui. Mais pas trop.', 'A 84 ans, la reine Elisabeth de Belgique apprend la posture \"tête au sol\"', 'Bientôt éjecté du “16”, son destin européen compromis : quelle sera la porte de sortie pour Alexander De Croo ?', '', 'Alin Stoica, ex-star à Anderlecht et… fan des Diables contre sa Roumanie, a grandi avec le T1 Iordanescu : \"Vertonghen est traité d’arrogant\"', 'L’incroyable histoire de Vernon de Marco, le serveur argentin devenu international slovaque par hasard : \"J’ai dû regarder où c’était sur la carte\"', \"Les Diables en train, ça peut être l'enfer\", 'Fouad Ahidar : “Qu’on me montre une mosquée où j’aurais fait campagne, et je démissionne demain”', 'En France, mieux vaut acheter un hectare de foncier agricole qu’un hectare de forêts', 'Comment la libération de la femme n’a toujours pas libéré la mère', '', \"Énergie: l'industrie belge bénéficie-t-elle de prix plus compétitifs que celle des pays voisins ?\", 'Propriétaire de l’OM, Frank McCourt veut racheter TikTok US pour créer un “nouvel internet”', 'En Iran, la campagne présidentielle ranime le camp réformateur', 'Surprise matinale : un kangourou en vadrouille à Grez-Doiceau', 'La douleur trop longtemps tue de perdre un bébé né prématuré', '”Le yoga, ça me fait un bien fou” : pour Vincent Vanasch, gardien de but de l’équipe nationale de hockey, les bienfaits sont nombreux', '', '', 'Bientôt éjecté du “16”, son destin européen compromis : quelle sera la porte de sortie pour Alexander De Croo ?', \"Disparition d'un couple belge à Tenerife: trois individus interpellés, deux en Belgique et un sur l'île espagnole\", 'Barré dans la course à la coprésidence de Défi, Julien Lemoine quitte le parti et rejoint les Engagés: \"Défi, en Wallonie, est voué à s’éteindre\"', 'Impayable, la réforme des droits de succession en Wallonie ? “Il faudra que beaucoup de gens déménagent au sud du pays !”', '\"Vous ne demandez pas où est le bébé ?\" : les lourds secrets d’une famille', '', '', 'Les Engagés quittent le Parti populaire européen pour rejoindre Renew, où siège déjà le MR. Cette décision ne fait pas l’unanimité en interne', '\"Vous ne demandez pas où est le bébé ?\" : les lourds secrets d’une famille', '', '', 'Mark Rutte sera le futur secrétaire général de l’Otan: quels seront les défis de son mandat?', \"Disparition d'un couple belge à Tenerife: trois individus interpellés, deux en Belgique et un sur l'île espagnole\", 'Diplo pour les nuls : les disciples de Moïse égarés en Louisiane', 'En Israël, les manifestants peinent à relancer la résistance : “On oscille entre désespoir et colère”', '', '', 'La Libre à la rencontre de citoyens touchés par les nouvelles inondations : \"Pour le moral, ça devient vraiment difficile\"', '\"Aujourd’hui n’est qu’une accalmie\" : voici la météo \"en trois vagues\" à laquelle nous serons confrontés dans les prochains jours en Belgique', 'Et si les porte-conteneurs étaient tractés par des cerfs-volants et les cargos poussés par des voiles ?', '', 'Soprano : “La période nous pousse à être engagé”', 'Avec \"Les tribulations de Félix Mogo\", le lecteur embarque dans un voyage immobile, c’est beau et fascinant', 'Donald Sutherland, des “Douzes Salopards” à “Hunger Games”', 'Le couple Hans Arp-Sophie Taeuber, dans leur antre magique de la modernité', '”La Grammaire d’à peu près Labiche\" : une comédie familiale en plein air', '“Les derniers jours de Roger Federer” de Geoff Dyer: un essai aussi drôle qu’érudit sur le thème de la fin', '', 'Des négos rapides, oui. Mais pas trop.', '”Veel sterkte”, “bon courage”', 'La petite Vivaldi', '', '', 'Vainqueur du championnat de Belgique du chrono, Tim Wellens est prêt à tout donner pour Pogacar: \"C’est de bon augure pour le Tour\"', 'Pro League : les conséquences du maintien de la formule actuelle du championnat', 'Alin Stoica, ex-star à Anderlecht et… fan des Diables contre sa Roumanie, a grandi avec le T1 Iordanescu : \"Vertonghen est traité d’arrogant\"', '', 'Un trou énorme est apparu dans un champ en province de Liège', 'Une citerne abandonnée pollue une rivière du Brabant wallon', '', '', 'Alin Stoica, ex-star à Anderlecht et… fan des Diables contre sa Roumanie, a grandi avec le T1 Iordanescu : \"Vertonghen est traité d’arrogant\"', '\"Tout le monde est en dessous de son niveau”, les Anglais de Kane inquiètent', 'L’incroyable histoire de Vernon de Marco, le serveur argentin devenu international slovaque par hasard : \"J’ai dû regarder où c’était sur la carte\"']\n"
     ]
    }
   ],
   "source": [
    "from selenium import webdriver\n",
    "from selenium.webdriver.common.keys import Keys\n",
    "from selenium.webdriver.common.by import By\n",
    "from selenium.webdriver.support.ui import WebDriverWait\n",
    "from selenium.webdriver.support import expected_conditions as EC\n",
    "\n",
    "url = \"https://www.lalibre.be/\"\n",
    "\n",
    "driver = webdriver.Chrome()\n",
    "driver.get(url)\n",
    "\n",
    "try:\n",
    "    cookie_button = WebDriverWait(driver, 10).until(EC.element_to_be_clickable((By.XPATH, \"//*[@id='didomi-notice-agree-button']\")))\n",
    "    cookie_button.click()\n",
    "    print(\"Cookie button clicked successfully.\")\n",
    "except Exception as e:\n",
    "    print(f\"An error occurred: {e}\")\n",
    "\n",
    "try:\n",
    "    article_titles = WebDriverWait(driver, 10).until(EC.presence_of_all_elements_located((By.XPATH, \"//h2//span[2]\")))\n",
    "    all_titles = [title.text for title in article_titles]\n",
    "    print(all_titles)\n",
    "    driver.close()\n",
    "\n",
    "except Exception as e:\n",
    "    print(f\"An error occurred: {e}\")"
   ]
  }
 ],
 "metadata": {
  "kernelspec": {
   "display_name": "Python 3.10.5 ('infosessionvenv')",
   "language": "python",
   "name": "python3"
  },
  "language_info": {
   "codemirror_mode": {
    "name": "ipython",
    "version": 3
   },
   "file_extension": ".py",
   "mimetype": "text/x-python",
   "name": "python",
   "nbconvert_exporter": "python",
   "pygments_lexer": "ipython3",
   "version": "3.12.3"
  },
  "vscode": {
   "interpreter": {
    "hash": "661c13da0699b4d3adfbe1192573631e3fbd9fa55405ad8c238e615a4e7e8a33"
   }
  }
 },
 "nbformat": 4,
 "nbformat_minor": 2
}
